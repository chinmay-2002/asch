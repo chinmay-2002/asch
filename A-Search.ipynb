{
 "cells": [
  {
   "cell_type": "code",
   "execution_count": 19,
   "id": "dedfbe7e",
   "metadata": {},
   "outputs": [
    {
     "name": "stdout",
     "output_type": "stream",
     "text": [
      "The A* path with the total is:\n",
      "A , B , D : : 7\n"
     ]
    }
   ],
   "source": [
    "dict_hn = {'A': 5, 'B': 3, 'C': 4, 'D': 2, 'E': 6, 'F': 3, 'G': 1, 'H': 0}\n",
    "dict_gn = {\n",
    "    'A': {'B': 1, 'C': 2, 'H': 7},\n",
    "    'B': {'D': 4, 'E': 6},\n",
    "    'C': {'F': 3, 'G': 2},\n",
    "    'D': {'E': 7},\n",
    "    'E': {},\n",
    "    'F': {'H': 1},\n",
    "    'G': {'H': 2},\n",
    "    'H': {}\n",
    "}\n",
    "\n",
    "from queue import PriorityQueue\n",
    "\n",
    "start = 'A'\n",
    "goal = 'D'\n",
    "result = ''\n",
    "\n",
    "def get_fn(citystr):\n",
    "    cities = citystr.split(\" , \")\n",
    "    hn = gn = 0\n",
    "    for ctr in range(0, len(cities) - 1):\n",
    "        gn = gn + dict_gn[cities[ctr]][cities[ctr + 1]]\n",
    "        hn = dict_hn[cities[len(cities) - 1]]\n",
    "    return hn + gn\n",
    "\n",
    "def expand(cityq):\n",
    "    global result\n",
    "    while not cityq.empty():\n",
    "        tot, citystr, thiscity = cityq.get()\n",
    "        if thiscity == goal:\n",
    "            result = citystr + \" : : \" + str(tot)\n",
    "            return\n",
    "        for cty in dict_gn[thiscity]:\n",
    "            cityq.put((get_fn(citystr + \" , \" + cty), citystr + \" , \" + cty, cty))\n",
    "\n",
    "def main():\n",
    "    cityq = PriorityQueue()\n",
    "    thiscity = start\n",
    "    cityq.put((get_fn(start), start, thiscity))\n",
    "    expand(cityq)\n",
    "    print(\"The A* path with the total is:\")\n",
    "    print(result)\n",
    "\n",
    "main()"
   ]
  },
  {
   "cell_type": "code",
   "execution_count": null,
   "id": "ecad7208",
   "metadata": {},
   "outputs": [],
   "source": []
  }
 ],
 "metadata": {
  "kernelspec": {
   "display_name": "Python 3 (ipykernel)",
   "language": "python",
   "name": "python3"
  },
  "language_info": {
   "codemirror_mode": {
    "name": "ipython",
    "version": 3
   },
   "file_extension": ".py",
   "mimetype": "text/x-python",
   "name": "python",
   "nbconvert_exporter": "python",
   "pygments_lexer": "ipython3",
   "version": "3.9.13"
  }
 },
 "nbformat": 4,
 "nbformat_minor": 5
}
